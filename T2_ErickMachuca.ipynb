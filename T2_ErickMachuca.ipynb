{
 "cells": [
  {
   "cell_type": "markdown",
   "source": [
    "## Tarea 2 \n",
    "#### Resumen de artículo de Amazon sobre MLOps"
   ],
   "metadata": {
    "collapsed": false
   },
   "id": "1a0b5fe4f7a3d530"
  },
  {
   "cell_type": "markdown",
   "source": [
    "Las MLOps son prácticas que tratan de combinar las actividades de Machine Learning con el desarrollo de aplicaciones. Las MLOps nos permiten automatizar flujos de trabajo en nuestro entorno laboral. En un principio, Machine Learning se trata de conseguir datos, prepararlos y utilizarlos en un modelo con fines predictivos. Esto se puede hacer manualmente, pero a grande escala, es necesario poder contar con una automatización para poder realizar el flujo de trabajo de una manera eficiente. Esto ayuda a que cuando se cuenta con big data, el utilizarla sea de una manera más rápida y eficaz. \n",
    "Los principios de la MLOps son los siguientes:\n",
    "+ Control de versiones\n",
    "  + Esto ayuda a controlar las distintas versiones de código. Esto con fines para que el modelo se pueda configurar correctamente y produce resultados idénticos con los mismos datos de entrada\n",
    "+ Automation\n",
    "    + Esto garantiza que los modelos y todo lo relacionado a machine learning pueda ser escalable y repetible. También ayuda a poder detectar problemas potenciales cuando sea desplegado, como cambios en los datos.\n",
    "+ Actividades continuas\n",
    "    + _Integración continua_ que se refiere a validar las pruebas de código\n",
    "    + _Entrega continua_ se refiere a implementar el modelo automaticamente \n",
    "    + _Entrenamiento continuo_ entrena los modelos con nuevos datos para ser entrenados nuevamente\n",
    "    + _Monitoreo continuo_ se monitorean los datos y las métricas seleccionadas\n",
    "+ Gobernanza de los modelos\n",
    "    + Se trata de administrar todos los aspectos relacionados, desde el lado del negocio, hasta el desarrollo del despliegue de los modelos.\n",
    "\n",
    "Las MLOps pueden ayudar a la toma de decisiones, sin embargo, hay desafíos a la hora de implementarlo, como la escasez de gente capacitada o el alto costo de ello. En cuanto se logra obtener una implementación correcta de las MLOps, se alcanza una eficiencia más alta, al igual que la productividad aumenta. \n",
    "\n",
    "Hay tres niveles de MLOps, llamados niveles de madurez.\n",
    "+ Nivel 0\n",
    "+ Nivel 1\n",
    "+ Nivel 2\n",
    "\n",
    "El nivel 0 es el más básico, ya que es para organizaciones nuevas a machine learning, que todavía se van haciendo manualmente por los científicos de datos. Hay mucha diferencia entre lo que hace un científico de datos y un ingeniero, adicionalmente, los modelos desarrollados no pueden ser entrenados y actualizados frecuentemente.\n",
    "\n",
    "El nivel 1 es el intermedio. Se trata de automatizar el entrenamiento de los modelos utilizados. Se implementa la automatización en el desarrollo y producción\n",
    "\n",
    "El nivel 2 es para el entrenamiento continuo, usualmente organizaciones tecnológicas son las que están aquí, ya que necesitan los datos continuos para poder entrenar y evaluar los modelos utilizados. \n",
    "\n",
    "En conclusión, las MLOps son parte esencial de la nueva ola de negocio. Ayuda bastante a mejorar los aspectos de una organización, como la productividad y la eficiencia. Esto requiere el buen manejo de estrategias para llegar al resultado deseado. El aprender este aspecto de la industria es demasiado útil, ya que abre muchas puertas, y espero poder aprenderlo de manera satisfactoria. \n"
   ],
   "metadata": {
    "collapsed": false
   },
   "id": "7bb4ac9d317c770"
  },
  {
   "cell_type": "code",
   "outputs": [],
   "source": [],
   "metadata": {
    "collapsed": false
   },
   "id": "31623e88a5295728"
  }
 ],
 "metadata": {
  "kernelspec": {
   "display_name": "Python 3",
   "language": "python",
   "name": "python3"
  },
  "language_info": {
   "codemirror_mode": {
    "name": "ipython",
    "version": 2
   },
   "file_extension": ".py",
   "mimetype": "text/x-python",
   "name": "python",
   "nbconvert_exporter": "python",
   "pygments_lexer": "ipython2",
   "version": "2.7.6"
  }
 },
 "nbformat": 4,
 "nbformat_minor": 5
}
