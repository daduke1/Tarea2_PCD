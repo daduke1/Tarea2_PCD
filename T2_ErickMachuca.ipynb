{
 "cells": [
  {
   "cell_type": "markdown",
   "source": [
    "## Tarea 2 \n",
    "#### Resumen de artículo de Amazon sobre MLOps"
   ],
   "metadata": {
    "collapsed": false
   },
   "id": "1a0b5fe4f7a3d530"
  },
  {
   "cell_type": "markdown",
   "source": [],
   "metadata": {
    "collapsed": false
   },
   "id": "7bb4ac9d317c770"
  }
 ],
 "metadata": {
  "kernelspec": {
   "display_name": "Python 3",
   "language": "python",
   "name": "python3"
  },
  "language_info": {
   "codemirror_mode": {
    "name": "ipython",
    "version": 2
   },
   "file_extension": ".py",
   "mimetype": "text/x-python",
   "name": "python",
   "nbconvert_exporter": "python",
   "pygments_lexer": "ipython2",
   "version": "2.7.6"
  }
 },
 "nbformat": 4,
 "nbformat_minor": 5
}
